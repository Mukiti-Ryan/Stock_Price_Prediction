{
  "nbformat": 4,
  "nbformat_minor": 0,
  "metadata": {
    "colab": {
      "provenance": [],
      "mount_file_id": "11-VtRNfqUkkRdFvKNg-etYa4c3npGHCT",
      "authorship_tag": "ABX9TyOaR4lKfjFByfIsGX9kyvGR",
      "include_colab_link": true
    },
    "kernelspec": {
      "name": "python3",
      "display_name": "Python 3"
    },
    "language_info": {
      "name": "python"
    }
  },
  "cells": [
    {
      "cell_type": "markdown",
      "metadata": {
        "id": "view-in-github",
        "colab_type": "text"
      },
      "source": [
        "<a href=\"https://colab.research.google.com/github/Mukiti-Ryan/Stock_Price_Prediction/blob/main/Google_Stock_Price_Prediction_Using_LSTM.ipynb\" target=\"_parent\"><img src=\"https://colab.research.google.com/assets/colab-badge.svg\" alt=\"Open In Colab\"/></a>"
      ]
    },
    {
      "cell_type": "markdown",
      "source": [
        "Import Required Libraries"
      ],
      "metadata": {
        "id": "y6dYJum2ccAC"
      }
    },
    {
      "cell_type": "code",
      "execution_count": null,
      "metadata": {
        "id": "QWIShy3dcU5i"
      },
      "outputs": [],
      "source": [
        "import os\n",
        "import numpy as np\n",
        "import pandas as pd\n",
        "import matplotlib.pyplot as plt\n",
        "\n",
        "from sklearn.preprocessing import MinMaxScaler\n",
        "from keras.models import Sequential\n",
        "from keras.layers import LSTM\n",
        "from keras.layers import Dense\n",
        "from keras.layers import Dropout"
      ]
    },
    {
      "cell_type": "markdown",
      "source": [
        "Load the Training Dataset"
      ],
      "metadata": {
        "id": "nqbntwM9iEnN"
      }
    },
    {
      "cell_type": "code",
      "source": [
        "dataset_train = pd.read_csv(\"/content/drive/MyDrive/archive-12/Google_Stock_Price_Train.csv\")\n",
        "dataset_train.head()"
      ],
      "metadata": {
        "colab": {
          "base_uri": "https://localhost:8080/",
          "height": 204
        },
        "id": "Sx0qd2WqhjG4",
        "outputId": "7e7165b9-454f-4b1b-ac28-aae214fa13b0"
      },
      "execution_count": null,
      "outputs": [
        {
          "output_type": "execute_result",
          "data": {
            "text/plain": [
              "       Date    Open    High     Low   Close      Volume\n",
              "0  1/3/2012  325.25  332.83  324.97  663.59   7,380,500\n",
              "1  1/4/2012  331.27  333.87  329.08  666.45   5,749,400\n",
              "2  1/5/2012  329.83  330.75  326.89  657.21   6,590,300\n",
              "3  1/6/2012  328.34  328.77  323.68  648.24   5,405,900\n",
              "4  1/9/2012  322.04  322.29  309.46  620.76  11,688,800"
            ],
            "text/html": [
              "\n",
              "  <div id=\"df-f12917c8-6007-445f-a3fd-584abb6e53f5\">\n",
              "    <div class=\"colab-df-container\">\n",
              "      <div>\n",
              "<style scoped>\n",
              "    .dataframe tbody tr th:only-of-type {\n",
              "        vertical-align: middle;\n",
              "    }\n",
              "\n",
              "    .dataframe tbody tr th {\n",
              "        vertical-align: top;\n",
              "    }\n",
              "\n",
              "    .dataframe thead th {\n",
              "        text-align: right;\n",
              "    }\n",
              "</style>\n",
              "<table border=\"1\" class=\"dataframe\">\n",
              "  <thead>\n",
              "    <tr style=\"text-align: right;\">\n",
              "      <th></th>\n",
              "      <th>Date</th>\n",
              "      <th>Open</th>\n",
              "      <th>High</th>\n",
              "      <th>Low</th>\n",
              "      <th>Close</th>\n",
              "      <th>Volume</th>\n",
              "    </tr>\n",
              "  </thead>\n",
              "  <tbody>\n",
              "    <tr>\n",
              "      <th>0</th>\n",
              "      <td>1/3/2012</td>\n",
              "      <td>325.25</td>\n",
              "      <td>332.83</td>\n",
              "      <td>324.97</td>\n",
              "      <td>663.59</td>\n",
              "      <td>7,380,500</td>\n",
              "    </tr>\n",
              "    <tr>\n",
              "      <th>1</th>\n",
              "      <td>1/4/2012</td>\n",
              "      <td>331.27</td>\n",
              "      <td>333.87</td>\n",
              "      <td>329.08</td>\n",
              "      <td>666.45</td>\n",
              "      <td>5,749,400</td>\n",
              "    </tr>\n",
              "    <tr>\n",
              "      <th>2</th>\n",
              "      <td>1/5/2012</td>\n",
              "      <td>329.83</td>\n",
              "      <td>330.75</td>\n",
              "      <td>326.89</td>\n",
              "      <td>657.21</td>\n",
              "      <td>6,590,300</td>\n",
              "    </tr>\n",
              "    <tr>\n",
              "      <th>3</th>\n",
              "      <td>1/6/2012</td>\n",
              "      <td>328.34</td>\n",
              "      <td>328.77</td>\n",
              "      <td>323.68</td>\n",
              "      <td>648.24</td>\n",
              "      <td>5,405,900</td>\n",
              "    </tr>\n",
              "    <tr>\n",
              "      <th>4</th>\n",
              "      <td>1/9/2012</td>\n",
              "      <td>322.04</td>\n",
              "      <td>322.29</td>\n",
              "      <td>309.46</td>\n",
              "      <td>620.76</td>\n",
              "      <td>11,688,800</td>\n",
              "    </tr>\n",
              "  </tbody>\n",
              "</table>\n",
              "</div>\n",
              "      <button class=\"colab-df-convert\" onclick=\"convertToInteractive('df-f12917c8-6007-445f-a3fd-584abb6e53f5')\"\n",
              "              title=\"Convert this dataframe to an interactive table.\"\n",
              "              style=\"display:none;\">\n",
              "        \n",
              "  <svg xmlns=\"http://www.w3.org/2000/svg\" height=\"24px\"viewBox=\"0 0 24 24\"\n",
              "       width=\"24px\">\n",
              "    <path d=\"M0 0h24v24H0V0z\" fill=\"none\"/>\n",
              "    <path d=\"M18.56 5.44l.94 2.06.94-2.06 2.06-.94-2.06-.94-.94-2.06-.94 2.06-2.06.94zm-11 1L8.5 8.5l.94-2.06 2.06-.94-2.06-.94L8.5 2.5l-.94 2.06-2.06.94zm10 10l.94 2.06.94-2.06 2.06-.94-2.06-.94-.94-2.06-.94 2.06-2.06.94z\"/><path d=\"M17.41 7.96l-1.37-1.37c-.4-.4-.92-.59-1.43-.59-.52 0-1.04.2-1.43.59L10.3 9.45l-7.72 7.72c-.78.78-.78 2.05 0 2.83L4 21.41c.39.39.9.59 1.41.59.51 0 1.02-.2 1.41-.59l7.78-7.78 2.81-2.81c.8-.78.8-2.07 0-2.86zM5.41 20L4 18.59l7.72-7.72 1.47 1.35L5.41 20z\"/>\n",
              "  </svg>\n",
              "      </button>\n",
              "      \n",
              "  <style>\n",
              "    .colab-df-container {\n",
              "      display:flex;\n",
              "      flex-wrap:wrap;\n",
              "      gap: 12px;\n",
              "    }\n",
              "\n",
              "    .colab-df-convert {\n",
              "      background-color: #E8F0FE;\n",
              "      border: none;\n",
              "      border-radius: 50%;\n",
              "      cursor: pointer;\n",
              "      display: none;\n",
              "      fill: #1967D2;\n",
              "      height: 32px;\n",
              "      padding: 0 0 0 0;\n",
              "      width: 32px;\n",
              "    }\n",
              "\n",
              "    .colab-df-convert:hover {\n",
              "      background-color: #E2EBFA;\n",
              "      box-shadow: 0px 1px 2px rgba(60, 64, 67, 0.3), 0px 1px 3px 1px rgba(60, 64, 67, 0.15);\n",
              "      fill: #174EA6;\n",
              "    }\n",
              "\n",
              "    [theme=dark] .colab-df-convert {\n",
              "      background-color: #3B4455;\n",
              "      fill: #D2E3FC;\n",
              "    }\n",
              "\n",
              "    [theme=dark] .colab-df-convert:hover {\n",
              "      background-color: #434B5C;\n",
              "      box-shadow: 0px 1px 3px 1px rgba(0, 0, 0, 0.15);\n",
              "      filter: drop-shadow(0px 1px 2px rgba(0, 0, 0, 0.3));\n",
              "      fill: #FFFFFF;\n",
              "    }\n",
              "  </style>\n",
              "\n",
              "      <script>\n",
              "        const buttonEl =\n",
              "          document.querySelector('#df-f12917c8-6007-445f-a3fd-584abb6e53f5 button.colab-df-convert');\n",
              "        buttonEl.style.display =\n",
              "          google.colab.kernel.accessAllowed ? 'block' : 'none';\n",
              "\n",
              "        async function convertToInteractive(key) {\n",
              "          const element = document.querySelector('#df-f12917c8-6007-445f-a3fd-584abb6e53f5');\n",
              "          const dataTable =\n",
              "            await google.colab.kernel.invokeFunction('convertToInteractive',\n",
              "                                                     [key], {});\n",
              "          if (!dataTable) return;\n",
              "\n",
              "          const docLinkHtml = 'Like what you see? Visit the ' +\n",
              "            '<a target=\"_blank\" href=https://colab.research.google.com/notebooks/data_table.ipynb>data table notebook</a>'\n",
              "            + ' to learn more about interactive tables.';\n",
              "          element.innerHTML = '';\n",
              "          dataTable['output_type'] = 'display_data';\n",
              "          await google.colab.output.renderOutput(dataTable, element);\n",
              "          const docLink = document.createElement('div');\n",
              "          docLink.innerHTML = docLinkHtml;\n",
              "          element.appendChild(docLink);\n",
              "        }\n",
              "      </script>\n",
              "    </div>\n",
              "  </div>\n",
              "  "
            ]
          },
          "metadata": {},
          "execution_count": 2
        }
      ]
    },
    {
      "cell_type": "markdown",
      "source": [
        "Use the Open Stock Price Column to Train the Model"
      ],
      "metadata": {
        "id": "mUyBVsXeiI4I"
      }
    },
    {
      "cell_type": "code",
      "source": [
        "training_set = dataset_train.iloc[:,1:2].values\n",
        "\n",
        "print(training_set)\n",
        "print(training_set.shape)"
      ],
      "metadata": {
        "colab": {
          "base_uri": "https://localhost:8080/"
        },
        "id": "Hc94XEl-h3Ic",
        "outputId": "ea35b043-61e4-4c0b-b66c-fcf09fb33978"
      },
      "execution_count": null,
      "outputs": [
        {
          "output_type": "stream",
          "name": "stdout",
          "text": [
            "[[325.25]\n",
            " [331.27]\n",
            " [329.83]\n",
            " ...\n",
            " [793.7 ]\n",
            " [783.33]\n",
            " [782.75]]\n",
            "(1258, 1)\n"
          ]
        }
      ]
    },
    {
      "cell_type": "markdown",
      "source": [
        "Normalizing the Dataset"
      ],
      "metadata": {
        "id": "kHxEBKaXiPtY"
      }
    },
    {
      "cell_type": "code",
      "source": [
        "scaler = MinMaxScaler(feature_range = (0, 1))\n",
        "scaled_training_set = scaler.fit_transform(training_set)\n",
        "\n",
        "scaled_training_set"
      ],
      "metadata": {
        "colab": {
          "base_uri": "https://localhost:8080/"
        },
        "id": "KFbF0TPNiPUH",
        "outputId": "fd3b0f04-9574-44ad-867b-eb9cd3017f63"
      },
      "execution_count": null,
      "outputs": [
        {
          "output_type": "execute_result",
          "data": {
            "text/plain": [
              "array([[0.08581368],\n",
              "       [0.09701243],\n",
              "       [0.09433366],\n",
              "       ...,\n",
              "       [0.95725128],\n",
              "       [0.93796041],\n",
              "       [0.93688146]])"
            ]
          },
          "metadata": {},
          "execution_count": 4
        }
      ]
    },
    {
      "cell_type": "markdown",
      "source": [
        "Create X_train and y_train Data Structures"
      ],
      "metadata": {
        "id": "UfPODPyKizeu"
      }
    },
    {
      "cell_type": "code",
      "source": [
        "X_train = []\n",
        "y_train = []\n",
        "for i in range(60, 1258):\n",
        "  X_train.append(scaled_training_set[i-60:i, 0])\n",
        "  y_train.append(scaled_training_set[i, 0])\n",
        "X_train = np.array(X_train)\n",
        "y_train = np.array(y_train)"
      ],
      "metadata": {
        "id": "46iYUusai5uc"
      },
      "execution_count": null,
      "outputs": []
    },
    {
      "cell_type": "code",
      "source": [
        "print(X_train.shape)\n",
        "print(y_train.shape)"
      ],
      "metadata": {
        "colab": {
          "base_uri": "https://localhost:8080/"
        },
        "id": "HzgR5Dz5jXbS",
        "outputId": "8c747d4e-5105-4f88-e686-00997347db75"
      },
      "execution_count": null,
      "outputs": [
        {
          "output_type": "stream",
          "name": "stdout",
          "text": [
            "(1198, 60)\n",
            "(1198,)\n"
          ]
        }
      ]
    },
    {
      "cell_type": "markdown",
      "source": [
        "Reshape the Data"
      ],
      "metadata": {
        "id": "GQ74zvFCjfRq"
      }
    },
    {
      "cell_type": "code",
      "source": [
        "X_train = np.reshape(X_train, (X_train.shape[0], X_train.shape[1], 1))\n",
        "\n",
        "X_train.shape"
      ],
      "metadata": {
        "colab": {
          "base_uri": "https://localhost:8080/"
        },
        "id": "vqS62vRdjgyR",
        "outputId": "931dc5fd-0173-451a-cfdd-de3bb9967e17"
      },
      "execution_count": null,
      "outputs": [
        {
          "output_type": "execute_result",
          "data": {
            "text/plain": [
              "(1198, 60, 1)"
            ]
          },
          "metadata": {},
          "execution_count": 7
        }
      ]
    },
    {
      "cell_type": "markdown",
      "source": [
        "Build the Model"
      ],
      "metadata": {
        "id": "n_sh3ot8j8Nz"
      }
    },
    {
      "cell_type": "code",
      "source": [
        "regressor = Sequential()\n",
        "\n",
        "regressor.add(LSTM(units = 50, return_sequences = True, input_shape =(X_train.shape[1], 1)))\n",
        "regressor.add(Dropout(0.2))\n",
        "\n",
        "regressor.add(LSTM(units = 50, return_sequences = True))\n",
        "regressor.add(Dropout(0.2))\n",
        "\n",
        "regressor.add(LSTM(units = 50, return_sequences = True))\n",
        "regressor.add(Dropout(0.2))\n",
        "\n",
        "regressor.add(LSTM(units = 50))\n",
        "regressor.add(Dropout(0.2))\n",
        "\n",
        "regressor.add(Dense(units = 1))"
      ],
      "metadata": {
        "id": "qwhHOEonj_HN"
      },
      "execution_count": null,
      "outputs": []
    },
    {
      "cell_type": "markdown",
      "source": [
        "Fitting the model"
      ],
      "metadata": {
        "id": "SK93HdgmkijZ"
      }
    },
    {
      "cell_type": "code",
      "source": [
        "regressor.compile(optimizer = 'adam', loss = 'mean_squared_error')\n",
        "regressor.fit(X_train, y_train, epochs = 100, batch_size = 32)"
      ],
      "metadata": {
        "colab": {
          "base_uri": "https://localhost:8080/"
        },
        "id": "APqn7SDWkkDO",
        "outputId": "6fb34e0c-9dcc-4044-9f95-12d200db3179"
      },
      "execution_count": null,
      "outputs": [
        {
          "output_type": "stream",
          "name": "stdout",
          "text": [
            "Epoch 1/100\n",
            "38/38 [==============================] - 30s 231ms/step - loss: 0.0433\n",
            "Epoch 2/100\n",
            "38/38 [==============================] - 6s 151ms/step - loss: 0.0064\n",
            "Epoch 3/100\n",
            "38/38 [==============================] - 5s 137ms/step - loss: 0.0064\n",
            "Epoch 4/100\n",
            "38/38 [==============================] - 7s 191ms/step - loss: 0.0056\n",
            "Epoch 5/100\n",
            "38/38 [==============================] - 5s 139ms/step - loss: 0.0049\n",
            "Epoch 6/100\n",
            "38/38 [==============================] - 7s 180ms/step - loss: 0.0045\n",
            "Epoch 7/100\n",
            "38/38 [==============================] - 6s 147ms/step - loss: 0.0056\n",
            "Epoch 8/100\n",
            "38/38 [==============================] - 5s 143ms/step - loss: 0.0044\n",
            "Epoch 9/100\n",
            "38/38 [==============================] - 7s 187ms/step - loss: 0.0038\n",
            "Epoch 10/100\n",
            "38/38 [==============================] - 5s 141ms/step - loss: 0.0042\n",
            "Epoch 11/100\n",
            "38/38 [==============================] - 7s 191ms/step - loss: 0.0044\n",
            "Epoch 12/100\n",
            "38/38 [==============================] - 5s 141ms/step - loss: 0.0042\n",
            "Epoch 13/100\n",
            "38/38 [==============================] - 6s 165ms/step - loss: 0.0043\n",
            "Epoch 14/100\n",
            "38/38 [==============================] - 6s 166ms/step - loss: 0.0046\n",
            "Epoch 15/100\n",
            "38/38 [==============================] - 5s 142ms/step - loss: 0.0042\n",
            "Epoch 16/100\n",
            "38/38 [==============================] - 7s 199ms/step - loss: 0.0036\n",
            "Epoch 17/100\n",
            "38/38 [==============================] - 7s 191ms/step - loss: 0.0035\n",
            "Epoch 18/100\n",
            "38/38 [==============================] - 7s 195ms/step - loss: 0.0036\n",
            "Epoch 19/100\n",
            "38/38 [==============================] - 5s 143ms/step - loss: 0.0032\n",
            "Epoch 20/100\n",
            "38/38 [==============================] - 7s 189ms/step - loss: 0.0036\n",
            "Epoch 21/100\n",
            "38/38 [==============================] - 6s 144ms/step - loss: 0.0035\n",
            "Epoch 22/100\n",
            "38/38 [==============================] - 6s 156ms/step - loss: 0.0035\n",
            "Epoch 23/100\n",
            "38/38 [==============================] - 7s 180ms/step - loss: 0.0031\n",
            "Epoch 24/100\n",
            "38/38 [==============================] - 5s 144ms/step - loss: 0.0032\n",
            "Epoch 25/100\n",
            "38/38 [==============================] - 7s 195ms/step - loss: 0.0034\n",
            "Epoch 26/100\n",
            "38/38 [==============================] - 5s 144ms/step - loss: 0.0029\n",
            "Epoch 27/100\n",
            "38/38 [==============================] - 7s 184ms/step - loss: 0.0030\n",
            "Epoch 28/100\n",
            "38/38 [==============================] - 6s 148ms/step - loss: 0.0029\n",
            "Epoch 29/100\n",
            "38/38 [==============================] - 6s 147ms/step - loss: 0.0028\n",
            "Epoch 30/100\n",
            "38/38 [==============================] - 7s 185ms/step - loss: 0.0030\n",
            "Epoch 31/100\n",
            "38/38 [==============================] - 5s 144ms/step - loss: 0.0034\n",
            "Epoch 32/100\n",
            "38/38 [==============================] - 7s 194ms/step - loss: 0.0028\n",
            "Epoch 33/100\n",
            "38/38 [==============================] - 5s 143ms/step - loss: 0.0028\n",
            "Epoch 34/100\n",
            "38/38 [==============================] - 7s 180ms/step - loss: 0.0033\n",
            "Epoch 35/100\n",
            "38/38 [==============================] - 6s 154ms/step - loss: 0.0028\n",
            "Epoch 36/100\n",
            "38/38 [==============================] - 6s 146ms/step - loss: 0.0027\n",
            "Epoch 37/100\n",
            "38/38 [==============================] - 7s 189ms/step - loss: 0.0029\n",
            "Epoch 38/100\n",
            "38/38 [==============================] - 6s 145ms/step - loss: 0.0028\n",
            "Epoch 39/100\n",
            "38/38 [==============================] - 7s 193ms/step - loss: 0.0026\n",
            "Epoch 40/100\n",
            "38/38 [==============================] - 6s 145ms/step - loss: 0.0028\n",
            "Epoch 41/100\n",
            "38/38 [==============================] - 7s 178ms/step - loss: 0.0025\n",
            "Epoch 42/100\n",
            "38/38 [==============================] - 6s 157ms/step - loss: 0.0025\n",
            "Epoch 43/100\n",
            "38/38 [==============================] - 6s 147ms/step - loss: 0.0023\n",
            "Epoch 44/100\n",
            "38/38 [==============================] - 7s 190ms/step - loss: 0.0027\n",
            "Epoch 45/100\n",
            "38/38 [==============================] - 6s 147ms/step - loss: 0.0027\n",
            "Epoch 46/100\n",
            "38/38 [==============================] - 7s 196ms/step - loss: 0.0027\n",
            "Epoch 47/100\n",
            "38/38 [==============================] - 5s 143ms/step - loss: 0.0024\n",
            "Epoch 48/100\n",
            "38/38 [==============================] - 7s 183ms/step - loss: 0.0022\n",
            "Epoch 49/100\n",
            "38/38 [==============================] - 6s 153ms/step - loss: 0.0025\n",
            "Epoch 50/100\n",
            "38/38 [==============================] - 6s 149ms/step - loss: 0.0024\n",
            "Epoch 51/100\n",
            "38/38 [==============================] - 7s 187ms/step - loss: 0.0023\n",
            "Epoch 52/100\n",
            "38/38 [==============================] - 6s 145ms/step - loss: 0.0023\n",
            "Epoch 53/100\n",
            "38/38 [==============================] - 7s 195ms/step - loss: 0.0024\n",
            "Epoch 54/100\n",
            "38/38 [==============================] - 6s 145ms/step - loss: 0.0022\n",
            "Epoch 55/100\n",
            "38/38 [==============================] - 7s 182ms/step - loss: 0.0020\n",
            "Epoch 56/100\n",
            "38/38 [==============================] - 6s 156ms/step - loss: 0.0022\n",
            "Epoch 57/100\n",
            "38/38 [==============================] - 9s 252ms/step - loss: 0.0021\n",
            "Epoch 58/100\n",
            "38/38 [==============================] - 8s 195ms/step - loss: 0.0024\n",
            "Epoch 59/100\n",
            "38/38 [==============================] - 6s 146ms/step - loss: 0.0022\n",
            "Epoch 60/100\n",
            "38/38 [==============================] - 7s 196ms/step - loss: 0.0023\n",
            "Epoch 61/100\n",
            "38/38 [==============================] - 6s 146ms/step - loss: 0.0020\n",
            "Epoch 62/100\n",
            "38/38 [==============================] - 7s 198ms/step - loss: 0.0021\n",
            "Epoch 63/100\n",
            "38/38 [==============================] - 6s 147ms/step - loss: 0.0019\n",
            "Epoch 64/100\n",
            "38/38 [==============================] - 6s 170ms/step - loss: 0.0020\n",
            "Epoch 65/100\n",
            "38/38 [==============================] - 6s 168ms/step - loss: 0.0019\n",
            "Epoch 66/100\n",
            "38/38 [==============================] - 5s 144ms/step - loss: 0.0020\n",
            "Epoch 67/100\n",
            "38/38 [==============================] - 7s 193ms/step - loss: 0.0020\n",
            "Epoch 68/100\n",
            "38/38 [==============================] - 5s 145ms/step - loss: 0.0017\n",
            "Epoch 69/100\n",
            "38/38 [==============================] - 7s 196ms/step - loss: 0.0020\n",
            "Epoch 70/100\n",
            "38/38 [==============================] - 6s 145ms/step - loss: 0.0018\n",
            "Epoch 71/100\n",
            "38/38 [==============================] - 7s 171ms/step - loss: 0.0020\n",
            "Epoch 72/100\n",
            "38/38 [==============================] - 6s 169ms/step - loss: 0.0018\n",
            "Epoch 73/100\n",
            "38/38 [==============================] - 6s 147ms/step - loss: 0.0019\n",
            "Epoch 74/100\n",
            "38/38 [==============================] - 7s 194ms/step - loss: 0.0016\n",
            "Epoch 75/100\n",
            "38/38 [==============================] - 6s 146ms/step - loss: 0.0017\n",
            "Epoch 76/100\n",
            "38/38 [==============================] - 7s 197ms/step - loss: 0.0019\n",
            "Epoch 77/100\n",
            "38/38 [==============================] - 6s 147ms/step - loss: 0.0018\n",
            "Epoch 78/100\n",
            "38/38 [==============================] - 7s 182ms/step - loss: 0.0019\n",
            "Epoch 79/100\n",
            "38/38 [==============================] - 6s 157ms/step - loss: 0.0019\n",
            "Epoch 80/100\n",
            "38/38 [==============================] - 6s 152ms/step - loss: 0.0017\n",
            "Epoch 81/100\n",
            "38/38 [==============================] - 7s 186ms/step - loss: 0.0018\n",
            "Epoch 82/100\n",
            "38/38 [==============================] - 6s 146ms/step - loss: 0.0014\n",
            "Epoch 83/100\n",
            "38/38 [==============================] - 7s 194ms/step - loss: 0.0015\n",
            "Epoch 84/100\n",
            "38/38 [==============================] - 6s 147ms/step - loss: 0.0018\n",
            "Epoch 85/100\n",
            "38/38 [==============================] - 7s 190ms/step - loss: 0.0017\n",
            "Epoch 86/100\n",
            "38/38 [==============================] - 6s 146ms/step - loss: 0.0016\n",
            "Epoch 87/100\n",
            "38/38 [==============================] - 6s 159ms/step - loss: 0.0017\n",
            "Epoch 88/100\n",
            "38/38 [==============================] - 7s 178ms/step - loss: 0.0020\n",
            "Epoch 89/100\n",
            "38/38 [==============================] - 5s 145ms/step - loss: 0.0017\n",
            "Epoch 90/100\n",
            "38/38 [==============================] - 7s 196ms/step - loss: 0.0014\n",
            "Epoch 91/100\n",
            "38/38 [==============================] - 6s 147ms/step - loss: 0.0015\n",
            "Epoch 92/100\n",
            "38/38 [==============================] - 7s 196ms/step - loss: 0.0016\n",
            "Epoch 93/100\n",
            "38/38 [==============================] - 6s 145ms/step - loss: 0.0015\n",
            "Epoch 94/100\n",
            "38/38 [==============================] - 6s 165ms/step - loss: 0.0015\n",
            "Epoch 95/100\n",
            "38/38 [==============================] - 7s 173ms/step - loss: 0.0014\n",
            "Epoch 96/100\n",
            "38/38 [==============================] - 6s 148ms/step - loss: 0.0014\n",
            "Epoch 97/100\n",
            "38/38 [==============================] - 7s 196ms/step - loss: 0.0015\n",
            "Epoch 98/100\n",
            "38/38 [==============================] - 6s 147ms/step - loss: 0.0015\n",
            "Epoch 99/100\n",
            "38/38 [==============================] - 7s 196ms/step - loss: 0.0015\n",
            "Epoch 100/100\n",
            "38/38 [==============================] - 6s 149ms/step - loss: 0.0014\n"
          ]
        },
        {
          "output_type": "execute_result",
          "data": {
            "text/plain": [
              "<keras.callbacks.History at 0x7f75f039fbe0>"
            ]
          },
          "metadata": {},
          "execution_count": 9
        }
      ]
    },
    {
      "cell_type": "markdown",
      "source": [
        "Extract the Actual Stock Prices of Jan - 2017"
      ],
      "metadata": {
        "id": "un3SsyKek0-_"
      }
    },
    {
      "cell_type": "code",
      "source": [
        "dataset_test = pd.read_csv(\"/content/drive/MyDrive/archive-12/Google_Stock_Price_Test.csv\")\n",
        "actual_stock_price = dataset_test.iloc[:, 1:2].values"
      ],
      "metadata": {
        "id": "5h20TcKJk6YM"
      },
      "execution_count": null,
      "outputs": []
    },
    {
      "cell_type": "markdown",
      "source": [
        "Preparing the input for the model"
      ],
      "metadata": {
        "id": "xYlAnLl4lJQ3"
      }
    },
    {
      "cell_type": "code",
      "source": [
        "dataset_total = pd.concat((dataset_train['Open'], dataset_test['Open']), axis = 0)\n",
        "inputs = dataset_total[len(dataset_total)- len(dataset_test)-60:].values\n",
        "\n",
        "inputs = inputs.reshape(-1, 1)\n",
        "inputs = scaler.transform(inputs)\n",
        "\n",
        "X_test = []\n",
        "for i in range(60, 80):\n",
        "  X_test.append(inputs[i-60:i, 0])\n",
        "X_test = np.array(X_test)\n",
        "X_test = np.reshape(X_test, (X_test.shape[0], X_test.shape[1], 1))"
      ],
      "metadata": {
        "id": "zstDwaWflMjS"
      },
      "execution_count": null,
      "outputs": []
    },
    {
      "cell_type": "markdown",
      "source": [
        "Predicting the values for Jan 2017 Stock Prices"
      ],
      "metadata": {
        "id": "nFRz4bJNo8DU"
      }
    },
    {
      "cell_type": "code",
      "source": [
        "predicted_stock_price = regressor.predict(X_test)\n",
        "predicted_stock_price = scaler.inverse_transform(predicted_stock_price)"
      ],
      "metadata": {
        "colab": {
          "base_uri": "https://localhost:8080/"
        },
        "id": "S6hrTeoHpAmv",
        "outputId": "8c4100fa-068f-4062-e622-bd42b0540bfa"
      },
      "execution_count": null,
      "outputs": [
        {
          "output_type": "stream",
          "name": "stdout",
          "text": [
            "1/1 [==============================] - 3s 3s/step\n"
          ]
        }
      ]
    },
    {
      "cell_type": "markdown",
      "source": [
        "Plotting the Actual and Predicted Prices for Google Stocks"
      ],
      "metadata": {
        "id": "MuXjRR83pOqQ"
      }
    },
    {
      "cell_type": "code",
      "source": [
        "plt.plot(actual_stock_price, color = 'red', label = 'Actual Google Stock Price')\n",
        "plt.plot(predicted_stock_price, color = 'blue', label = 'Predicted Google Stock Price')\n",
        "plt.title('Google Stock Price Prediction')\n",
        "plt.xlabel('Time')\n",
        "plt.ylabel('Google Stock Price')\n",
        "plt.legend()\n",
        "plt.show()"
      ],
      "metadata": {
        "colab": {
          "base_uri": "https://localhost:8080/",
          "height": 295
        },
        "id": "GX5rh78RpX4X",
        "outputId": "15c1eb1b-a8c9-4519-db1d-47266716590d"
      },
      "execution_count": null,
      "outputs": [
        {
          "output_type": "display_data",
          "data": {
            "text/plain": [
              "<Figure size 432x288 with 1 Axes>"
            ],
            "image/png": "[encoded data removed]"
          },
          "metadata": {
            "needs_background": "light"
          }
        }
      ]
    },
    {
      "cell_type": "markdown",
      "source": [
        "Increase accuracy of the model by training with more data and increasing the LSTM layers"
      ],
      "metadata": {
        "id": "wpoYoy-op7ZF"
      }
    }
  ]
}